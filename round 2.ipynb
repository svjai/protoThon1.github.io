{
 "cells": [
  {
   "cell_type": "code",
   "execution_count": null,
   "metadata": {},
   "outputs": [],
   "source": [
    "import cv2\n",
    "\n",
    "image= cv2.imread(r'C:\\Users\\Jai\\Desktop\\icamp\\RESUME\\Jayachandhran S-2.jpg',0)\n",
    "#gray=cv2.cvtColor(image,cv2.COLOR_BGR2GRAY)\n",
    "cv2.imshow(\"dasd\",image)\n",
    "#\n",
    "#                 cv2.imshow(\"hghg\",gray)\n",
    "   #cv2.imwrite('jai.png',image)\n",
    "   #print(\"sin\",image.shape)\n",
    "   #print(\"sin\",image.size)\n",
    "\n",
    "\n",
    "cv2.waitKey(0)\n",
    "cv2.destroyAllWindows()"
   ]
  },
  {
   "cell_type": "code",
   "execution_count": null,
   "metadata": {},
   "outputs": [],
   "source": [
    "import numpy as np\n",
    "import matplotlib.pyplot as plt\n",
    "import matplotlib.image as mpimg\n",
    "\n",
    "def rgb2gray(rgb):\n",
    "    return np.dot(rgb[...,:3], [0.299, 0.587, 0.114])\n",
    "\n",
    "image= mpimg.imread(r'C:\\Users\\Jai\\Desktop\\icamp\\RESUME\\Jayachandhran S-2.jpg')\n",
    "gray = rgb2gray(image)\n",
    "print(gray)\n",
    "plt.imshow(gray,cmap=plt.get_cmap('gray'))\n",
    "plt.show()"
   ]
  },
  {
   "cell_type": "code",
   "execution_count": null,
   "metadata": {},
   "outputs": [],
   "source": [
    "import getch\n",
    "text = ''\n",
    "\n",
    "while True:\n",
    "    char = getch()\n",
    "    if ord(char) == 13:  # ascii carriage return\n",
    "        break\n",
    "    else:\n",
    "        text += char\n",
    "\n",
    "print (text)"
   ]
  },
  {
   "cell_type": "code",
   "execution_count": null,
   "metadata": {},
   "outputs": [],
   "source": [
    "import getch\n",
    "# ...\n",
    "char = getch.getch() # User input, but not displayed on the screen\n",
    "# or\n",
    "char = getch.getche() # also displayed on the screen\n",
    "import msvcrt\n",
    "# ...\n",
    "char = msvcrt.getch()\n",
    "# or, to display it on the screen\n",
    "char = msvcrt.getche()"
   ]
  },
  {
   "cell_type": "code",
   "execution_count": null,
   "metadata": {},
   "outputs": [],
   "source": [
    "import csv\n",
    "import os\n",
    "import random\n",
    "a=1\n",
    "for i in range(0,10):\n",
    "    n=open(f\"sjai{i}.csv\",\"x\")\n",
    "    row=[['s.no','num1','num2','num3','num4','num5','num6']]\n",
    "\n",
    "    while os.stat(f\"sjai{i}.csv\").st_size < 2048:\n",
    "        row.append([a,random.randint(1,100),random.randint(1,100),random.randint(1,100),random.randint(1,100),random.randint(1,100),random.randint(1,100)])\n",
    "        a+=1\n",
    "        with open(f\"sjai{i}.csv\",'w') as writefile:\n",
    "            writer = csv.writer(writefile)\n",
    "            writer.writerows(row)\n",
    " \n",
    "    \n"
   ]
  },
  {
   "cell_type": "code",
   "execution_count": null,
   "metadata": {},
   "outputs": [],
   "source": [
    "import keyboard  \n",
    "import time\n",
    "s=\"abcdefghijklmnopqrstuvwxyz\"\n",
    "l=[]\n",
    "\n",
    "for i in s:\n",
    "    l.append(i)\n",
    "    \n",
    "\n",
    "while True:\n",
    "    \n",
    "    try:\n",
    "        \n",
    "        \n",
    "        \n",
    "      for i in l:\n",
    "        if keyboard.is_pressed(i):  \n",
    "            print(i.upper(),end='')\n",
    "            time.sleep(0.15)\n",
    "            \n",
    "        else:\n",
    "            pass\n",
    "    except:\n",
    "        break\n",
    "\n",
    "        "
   ]
  },
  {
   "cell_type": "code",
   "execution_count": 22,
   "metadata": {},
   "outputs": [
    {
     "name": "stdout",
     "output_type": "stream",
     "text": [
      "jjjj\n",
      "['jjjj', 'JJJJ', 'hohh', 'lhli', '17-03-2019 07:47:07', UUID('c3ae0b4c-485a-11e9-991a-c85b761e6cc5')]\n",
      "jjjj\n",
      "['jjjj', 'JJJJ', 'hohh', 'lhli', '17-03-2019 07:47:09', UUID('c483bd5c-485a-11e9-8ea2-c85b761e6cc5')]\n"
     ]
    }
   ],
   "source": [
    "import csv\n",
    "import time\n",
    "import tkinter as tk\n",
    "import uuid\n",
    "u=[]\n",
    "\n",
    "jai=tk.Tk()\n",
    "jai.title(\"list of uuid\")\n",
    "    \n",
    "x=tk.Label(jai,text=\"Name\").grid(row=0,column=1)\n",
    "y=tk.Label(jai,text=\"mobile\").grid(row=1,column=1)\n",
    "z=tk.Label(jai,text=\"E-mail\").grid(row=2,column=1)\n",
    "t=tk.Label(jai,text=\"Company\").grid(row=3,column=1)\n",
    "\n",
    "x=tk.Entry(jai)\n",
    "y=tk.Entry(jai)\n",
    "z=tk.Entry(jai)\n",
    "t=tk.Entry(jai)\n",
    "x.grid(row=0,column=2)\n",
    "y.grid(row=1, column=2)\n",
    "z.grid(row=2, column=2)\n",
    "t.grid(row=3, column=2)\n",
    "head=[[\"Name\",\"Mobile\",\"Emial\",\"company\",\"time\",\"uuid\"]]\n",
    "def fing():\n",
    "    a=x.get()\n",
    "    print(a)\n",
    "    b=y.get()\n",
    "    c=z.get() \n",
    "    f=t.get()\n",
    "    now = time.strftime('%d-%m-%Y %H:%M:%S')\n",
    " \n",
    "    id = uuid.uuid1()\n",
    "    v=[a,b,c,f,now,id ]\n",
    "    u.append(v)\n",
    "    print(v)\n",
    "    head.append(v)\n",
    "    with open(f\"vedha.csv\",'w') as writefile:\n",
    "         csvwriter = csv.writer(writefile)\n",
    "         csvwriter.writerows(head)\n",
    "def search():\n",
    "    q=k.get()\n",
    "    for i in range(len(u)):\n",
    "        if(u[i][0]==q):\n",
    "            print(g[i])\n",
    "            \n",
    "h=tk.Button(jai,text='update',width=35,justify='center',bg='pink',command=fing).grid(row=5,column=1)\n",
    "k=tk.Entry(jai)\n",
    "k.grid(row=6,column=1)\n",
    "p=tk.Button(jai,text='seracgh',width=35,justify='center',bg='pink',command=search).grid(row=7,column=1)\n",
    "\n",
    "\n",
    "\n",
    "\n",
    "\n",
    "\n",
    "\n",
    "jai.mainloop()"
   ]
  },
  {
   "cell_type": "code",
   "execution_count": null,
   "metadata": {},
   "outputs": [],
   "source": []
  }
 ],
 "metadata": {
  "kernelspec": {
   "display_name": "Python 3",
   "language": "python",
   "name": "python3"
  },
  "language_info": {
   "codemirror_mode": {
    "name": "ipython",
    "version": 3
   },
   "file_extension": ".py",
   "mimetype": "text/x-python",
   "name": "python",
   "nbconvert_exporter": "python",
   "pygments_lexer": "ipython3",
   "version": "3.6.8"
  }
 },
 "nbformat": 4,
 "nbformat_minor": 2
}
