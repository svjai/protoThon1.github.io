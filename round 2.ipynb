{
 "cells": [
  {
   "cell_type": "code",
   "execution_count": null,
   "metadata": {},
   "outputs": [],
   "source": [
    "import cv2\n",
    "\n",
    "image= cv2.imread(r'C:\\Users\\Jai\\Desktop\\icamp\\RESUME\\Jayachandhran S-2.jpg',0)\n",
    "#gray=cv2.cvtColor(image,cv2.COLOR_BGR2GRAY)\n",
    "cv2.imshow(\"dasd\",image)\n",
    "#\n",
    "#                 cv2.imshow(\"hghg\",gray)\n",
    "   #cv2.imwrite('jai.png',image)\n",
    "   #print(\"sin\",image.shape)\n",
    "   #print(\"sin\",image.size)\n",
    "\n",
    "\n",
    "cv2.waitKey(0)\n",
    "cv2.destroyAllWindows()"
   ]
  },
  {
   "cell_type": "code",
   "execution_count": null,
   "metadata": {},
   "outputs": [],
   "source": [
    "import numpy as np\n",
    "import matplotlib.pyplot as plt\n",
    "import matplotlib.image as mpimg\n",
    "\n",
    "def rgb2gray(rgb):\n",
    "    return np.dot(rgb[...,:3], [0.299, 0.587, 0.114])\n",
    "\n",
    "image= mpimg.imread(r'C:\\Users\\Jai\\Desktop\\icamp\\RESUME\\Jayachandhran S-2.jpg')\n",
    "gray = rgb2gray(image)\n",
    "print(gray)\n",
    "plt.imshow(gray,cmap=plt.get_cmap('gray'))\n",
    "plt.show()"
   ]
  },
  {
   "cell_type": "code",
   "execution_count": null,
   "metadata": {},
   "outputs": [],
   "source": [
    "import getch\n",
    "text = ''\n",
    "\n",
    "while True:\n",
    "    char = getch()\n",
    "    if ord(char) == 13:  # ascii carriage return\n",
    "        break\n",
    "    else:\n",
    "        text += char\n",
    "\n",
    "print (text)"
   ]
  },
  {
   "cell_type": "code",
   "execution_count": null,
   "metadata": {},
   "outputs": [],
   "source": [
    "import getch\n",
    "# ...\n",
    "char = getch.getch() # User input, but not displayed on the screen\n",
    "# or\n",
    "char = getch.getche() # also displayed on the screen\n",
    "import msvcrt\n",
    "# ...\n",
    "char = msvcrt.getch()\n",
    "# or, to display it on the screen\n",
    "char = msvcrt.getche()"
   ]
  },
  {
   "cell_type": "code",
   "execution_count": 13,
   "metadata": {},
   "outputs": [],
   "source": [
    "import csv\n",
    "import os\n",
    "import random\n",
    "a=1\n",
    "for i in range(0,10):\n",
    "    n=open(f\"sjai{i}.csv\",\"x\")\n",
    "    row=[['s.no','num1','num2','num3','num4','num5','num6']]\n",
    "\n",
    "    while os.stat(f\"sjai{i}.csv\").st_size < 2048:\n",
    "        row.append([a,random.randint(1,100),random.randint(1,100),random.randint(1,100),random.randint(1,100),random.randint(1,100),random.randint(1,100)])\n",
    "        a+=1\n",
    "        with open(f\"sjai{i}.csv\",'w') as writefile:\n",
    "            writer = csv.writer(writefile)\n",
    "            writer.writerows(row)\n",
    " \n",
    "    \n"
   ]
  },
  {
   "cell_type": "code",
   "execution_count": null,
   "metadata": {},
   "outputs": [],
   "source": []
  }
 ],
 "metadata": {
  "kernelspec": {
   "display_name": "Python 3",
   "language": "python",
   "name": "python3"
  },
  "language_info": {
   "codemirror_mode": {
    "name": "ipython",
    "version": 3
   },
   "file_extension": ".py",
   "mimetype": "text/x-python",
   "name": "python",
   "nbconvert_exporter": "python",
   "pygments_lexer": "ipython3",
   "version": "3.6.8"
  }
 },
 "nbformat": 4,
 "nbformat_minor": 2
}
