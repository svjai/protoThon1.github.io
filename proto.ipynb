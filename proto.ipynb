{
 "cells": [
  {
   "cell_type": "code",
   "execution_count": null,
   "metadata": {},
   "outputs": [],
   "source": [
    "\n",
    "def add(a,b):\n",
    "    return a+b\n",
    "    \n",
    "def sub(a,b):\n",
    "    return a-b\n",
    "def mul(a,b):\n",
    "    return a*b\n",
    "def div(a,b):\n",
    "    return a / b\n",
    "\n",
    "operation={'1':add,'2':sub,'3':mul,'4':div}\n",
    "\n",
    "num1 = float(input(\"Enter first number: \"))\n",
    "num2 = float(input(\"Enter second number: \"))\n",
    "print(\"what to want to do\")\n",
    "print(\"1-add,2-sub,3-mul,4-div\")\n",
    "\n",
    "exp=input()\n",
    "\n",
    "if exp == '1':\n",
    "   print(num1,\"+\",num2,\"=\", operation[exp](num1,num2))\n",
    "\n",
    "elif exp == '2':\n",
    "   print(num1,\"-\",num2,\"=\", operation[exp](num1,num2))\n",
    "\n",
    "elif exp == '3':\n",
    "   print(num1,\"*\",num2,\"=\", operation[exp](num1,num2))\n",
    "\n",
    "elif exp == '4':\n",
    "    if num2==0:\n",
    "        print(\"invalid input numbers\")\n",
    "        exit\n",
    "    else:\n",
    "        print(num1,\"/\",num2,\"=\", operation[exp](num1,num2))\n",
    "else:\n",
    "   print(\"Invalid input\")\n",
    "\n",
    "   "
   ]
  },
  {
   "cell_type": "code",
   "execution_count": null,
   "metadata": {},
   "outputs": [],
   "source": [
    "import numpy as np\n",
    "import math\n",
    "x=(input())\n",
    "y=x.split(',')\n",
    "a=[float(i) for i in y]\n",
    "print(a)\n",
    "e=(len(a))\n",
    "c=(np.square(a))\n",
    "print(c)\n",
    "d=sum(c)\n",
    "f=d / e\n",
    "print(math.sqrt(f))\n",
    "\n",
    "    "
   ]
  },
  {
   "cell_type": "code",
   "execution_count": null,
   "metadata": {},
   "outputs": [],
   "source": [
    "help(float)"
   ]
  },
  {
   "cell_type": "code",
   "execution_count": null,
   "metadata": {},
   "outputs": [],
   "source": [
    "import sys\n",
    "sys.getsizeof(131.00000)"
   ]
  },
  {
   "cell_type": "code",
   "execution_count": 4,
   "metadata": {},
   "outputs": [
    {
     "name": "stdout",
     "output_type": "stream",
     "text": [
      "text herejdiajd jhsd\n",
      "input jdiajd jhsd\n",
      "JDIAJD JHSD\n",
      "jdiajd jhsd\n",
      "Jdiajd Jhsd\n",
      "Jdiajd jhsd\n"
     ]
    }
   ],
   "source": [
    "a=input(\"text here\")\n",
    "print(\"input :\",a)\n",
    "c=a.upper() #for capital\n",
    "print(\"cap :\",c)\n",
    "d=a.lower()#for small \n",
    "print(\"small :\",d)\n",
    "x=a.title()#for capitalizing of each word\n",
    "print(\"input :\",x)\n",
    "y=a.capitalize()#capitalize of first sentence \n",
    "print(y)"
   ]
  },
  {
   "cell_type": "code",
   "execution_count": null,
   "metadata": {},
   "outputs": [],
   "source": []
  }
 ],
 "metadata": {
  "kernelspec": {
   "display_name": "Python 3",
   "language": "python",
   "name": "python3"
  },
  "language_info": {
   "codemirror_mode": {
    "name": "ipython",
    "version": 3
   },
   "file_extension": ".py",
   "mimetype": "text/x-python",
   "name": "python",
   "nbconvert_exporter": "python",
   "pygments_lexer": "ipython3",
   "version": "3.6.8"
  }
 },
 "nbformat": 4,
 "nbformat_minor": 2
}
