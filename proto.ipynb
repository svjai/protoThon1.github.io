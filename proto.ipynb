{
 "cells": [
  {
   "cell_type": "code",
   "execution_count": 21,
   "metadata": {},
   "outputs": [
    {
     "name": "stdout",
     "output_type": "stream",
     "text": [
      "Enter first number: 15.5\n",
      "Enter second number: 15.0\n",
      "what to want to do\n",
      "1-add,2-sub,3-mul,4-div\n",
      "1\n",
      "15.5 + 15.0 = 30.5\n"
     ]
    }
   ],
   "source": [
    "\n",
    "def add(a,b):\n",
    "    return a+b\n",
    "    \n",
    "def sub(a,b):\n",
    "    return a-b\n",
    "def mul(a,b):\n",
    "    return a*b\n",
    "def div(a,b):\n",
    "    return a / b\n",
    "\n",
    "operation={'1':add,'2':sub,'3':mul,'4':div}\n",
    "\n",
    "num1 = float(input(\"Enter first number: \"))\n",
    "num2 = float(input(\"Enter second number: \"))\n",
    "print(\"what to want to do\")\n",
    "print(\"1-add,2-sub,3-mul,4-div\")\n",
    "\n",
    "exp=input()\n",
    "\n",
    "if exp == '1':\n",
    "   print(num1,\"+\",num2,\"=\", operation[exp](num1,num2))\n",
    "\n",
    "elif exp == '2':\n",
    "   print(num1,\"-\",num2,\"=\", operation[exp](num1,num2))\n",
    "\n",
    "elif exp == '3':\n",
    "   print(num1,\"*\",num2,\"=\", operation[exp](num1,num2))\n",
    "\n",
    "elif exp == '4':\n",
    "    if num2==0:\n",
    "        print(\"invalid input numbers\")\n",
    "        exit\n",
    "    else:\n",
    "        print(num1,\"/\",num2,\"=\", operation[exp](num1,num2))\n",
    "else:\n",
    "   print(\"Invalid input\")\n",
    "\n",
    "   "
   ]
  },
  {
   "cell_type": "code",
   "execution_count": null,
   "metadata": {},
   "outputs": [],
   "source": []
  },
  {
   "cell_type": "code",
   "execution_count": null,
   "metadata": {},
   "outputs": [],
   "source": [
    "help(float)"
   ]
  },
  {
   "cell_type": "code",
   "execution_count": null,
   "metadata": {},
   "outputs": [],
   "source": [
    "import sys\n",
    "sys.getsizeof(131.00000)"
   ]
  },
  {
   "cell_type": "code",
   "execution_count": null,
   "metadata": {},
   "outputs": [],
   "source": []
  }
 ],
 "metadata": {
  "kernelspec": {
   "display_name": "Python 3",
   "language": "python",
   "name": "python3"
  }
 },
 "nbformat": 4,
 "nbformat_minor": 2
}
